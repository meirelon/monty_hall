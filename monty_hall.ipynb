{
  "nbformat": 4,
  "nbformat_minor": 0,
  "metadata": {
    "colab": {
      "name": "monty_hall.ipynb",
      "version": "0.3.2",
      "provenance": []
    },
    "kernelspec": {
      "name": "python3",
      "display_name": "Python 3"
    }
  },
  "cells": [
    {
      "cell_type": "code",
      "metadata": {
        "id": "HZg_6_SaC44_",
        "colab_type": "code",
        "colab": {}
      },
      "source": [
        "import random"
      ],
      "execution_count": 0,
      "outputs": []
    },
    {
      "cell_type": "code",
      "metadata": {
        "id": "yiqF265WELL9",
        "colab_type": "code",
        "colab": {}
      },
      "source": [
        "def monty_hall(switch=False):\n",
        "    doors = [\"goat\", \"goat\", \"car\"]\n",
        "    random.shuffle(doors)\n",
        "    door_select = random.randint(0,2)\n",
        "    show_select = [i for i,x in enumerate(doors) if x==\"goat\" and i != door_select]\n",
        "    unselected_door = [x for x in range(0,3) if x != door_select and x != show_select[0]][0]\n",
        "    if switch:\n",
        "        return doors[unselected_door]\n",
        "    else:\n",
        "        return doors[door_select]"
      ],
      "execution_count": 0,
      "outputs": []
    },
    {
      "cell_type": "code",
      "metadata": {
        "id": "UwU0n3iqEpMs",
        "colab_type": "code",
        "colab": {}
      },
      "source": [
        "n = 10**5\n",
        "switched = [monty_hall(switch=True) for x in range(0,n)]\n",
        "no_switch = [monty_hall(switch=False) for x in range(0,n)]"
      ],
      "execution_count": 0,
      "outputs": []
    },
    {
      "cell_type": "code",
      "metadata": {
        "id": "3YJJf7NKEqQE",
        "colab_type": "code",
        "colab": {
          "base_uri": "https://localhost:8080/",
          "height": 34
        },
        "outputId": "2ab7a380-a7fb-4e29-b4d6-128b12bf1a2b"
      },
      "source": [
        "len([x for x in switched if x==\"car\"])/n"
      ],
      "execution_count": 161,
      "outputs": [
        {
          "output_type": "execute_result",
          "data": {
            "text/plain": [
              "0.66309"
            ]
          },
          "metadata": {
            "tags": []
          },
          "execution_count": 161
        }
      ]
    },
    {
      "cell_type": "code",
      "metadata": {
        "id": "KdkXsPGuFqQE",
        "colab_type": "code",
        "colab": {
          "base_uri": "https://localhost:8080/",
          "height": 34
        },
        "outputId": "08fd5b7b-d0aa-4c6f-fc94-e1a912d45c15"
      },
      "source": [
        "len([x for x in no_switch if x==\"car\"])/n"
      ],
      "execution_count": 162,
      "outputs": [
        {
          "output_type": "execute_result",
          "data": {
            "text/plain": [
              "0.33249"
            ]
          },
          "metadata": {
            "tags": []
          },
          "execution_count": 162
        }
      ]
    },
    {
      "cell_type": "code",
      "metadata": {
        "id": "5_HNwtawMYQw",
        "colab_type": "code",
        "colab": {}
      },
      "source": [
        ""
      ],
      "execution_count": 0,
      "outputs": []
    }
  ]
}